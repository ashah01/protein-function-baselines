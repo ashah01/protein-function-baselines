{
 "cells": [
  {
   "cell_type": "code",
   "execution_count": 1,
   "id": "cba69182-c6fc-4b43-b77e-719fbd7152ff",
   "metadata": {},
   "outputs": [],
   "source": [
    "import pandas as pd\n",
    "import numpy as np\n",
    "import os\n",
    "from tqdm.auto import tqdm"
   ]
  },
  {
   "cell_type": "code",
   "execution_count": 2,
   "id": "42c1dd99-4ef8-4369-a2d8-dbbd873bc702",
   "metadata": {},
   "outputs": [],
   "source": [
    "import pickle as pkl\n",
    "\n",
    "def read_pkl(file_path):\n",
    "    with open(file_path,'rb') as fr:\n",
    "        return pkl.load(fr)\n",
    "\n",
    "def save_pkl(file_path, val):\n",
    "    fw = open(file_path, 'wb')\n",
    "    pkl.dump(val, fw)\n",
    "    fw.close()"
   ]
  },
  {
   "cell_type": "code",
   "execution_count": 3,
   "id": "05ef6b96-12a8-4747-93a1-81faaff3c15a",
   "metadata": {},
   "outputs": [],
   "source": [
    "tags = ['mf', 'cc', 'bp']\n",
    "types = ['train', 'valid', 'test']"
   ]
  },
  {
   "cell_type": "markdown",
   "id": "85417dfa-b850-4763-8c1a-2f9b489bacdb",
   "metadata": {
    "jp-MarkdownHeadingCollapsed": true,
    "tags": []
   },
   "source": [
    "## 1. Firstly, we need generate pid_list_file"
   ]
  },
  {
   "cell_type": "code",
   "execution_count": 6,
   "id": "4c17f1be-4084-4817-b92c-64b9f5710072",
   "metadata": {
    "tags": []
   },
   "outputs": [],
   "source": [
    "for tag in tags:\n",
    "    for tp in types:\n",
    "        pid_list = set()\n",
    "        with open(f\"./data_dpfunc/{tag}_{tp}_pid_list.txt\", 'r') as f:\n",
    "            lines = f.readlines()\n",
    "            for line in lines:\n",
    "                content = line.strip('\\n').strip()\n",
    "                pid_list.add(content)\n",
    "        pid_list = list(pid_list)\n",
    "        save_pkl(f\"./processed_file/{tag}_{tp}_used_pid_list.pkl\", pid_list)"
   ]
  },
  {
   "cell_type": "markdown",
   "id": "d1bc5224-8f2b-422c-bdf4-1c5f81d46716",
   "metadata": {
    "jp-MarkdownHeadingCollapsed": true,
    "tags": []
   },
   "source": [
    "## 2. pid_go_file"
   ]
  },
  {
   "cell_type": "code",
   "execution_count": 8,
   "id": "78934bb2-3df6-4e07-9986-e15464fae4b1",
   "metadata": {},
   "outputs": [],
   "source": [
    "import os"
   ]
  },
  {
   "cell_type": "code",
   "execution_count": 10,
   "id": "9f84a1db-9df3-4090-9bc2-e50b5cd37612",
   "metadata": {},
   "outputs": [],
   "source": [
    "for tag in tags:\n",
    "    for tp in types:\n",
    "        cmd = f\"cp ./data_dpfunc/{tag}_{tp}_go.txt ./processed_file/{tag}_{tp}_go.txt\"\n",
    "        os.system(cmd)"
   ]
  },
  {
   "cell_type": "markdown",
   "id": "39c6c457-9680-4e58-8b26-e24e67dbc9e9",
   "metadata": {
    "jp-MarkdownHeadingCollapsed": true,
    "tags": []
   },
   "source": [
    "## 3. pid_pdb_file"
   ]
  },
  {
   "cell_type": "code",
   "execution_count": 21,
   "id": "ea58a0e2-ac3f-4aa7-93e8-903c625c29e0",
   "metadata": {},
   "outputs": [],
   "source": [
    "from tqdm.auto import tqdm\n",
    "import gzip"
   ]
  },
  {
   "cell_type": "code",
   "execution_count": null,
   "id": "22bc326c-e561-4c7c-a130-226ef59d7b4d",
   "metadata": {},
   "outputs": [],
   "source": [
    "from Bio.PDB import PDBParser\n",
    "from Bio.SeqUtils import seq1\n",
    "\n",
    "def extract_sequence_and_ca_coords(pdb_file, chain_id=None):\n",
    "    parser = PDBParser(QUIET=True)\n",
    "    if pdb_file.endswith('.gz'):\n",
    "        with gzip.open(pdb_file, 'rt') as gz_file:\n",
    "            temp_file = pdb_file.replace('.gz', '_temp')\n",
    "            try:\n",
    "                with open(temp_file, 'w') as temp:\n",
    "                    temp.write(gz_file.read())\n",
    "                \n",
    "                structure = parser.get_structure('protein', temp_file)\n",
    "            finally:\n",
    "                if os.path.exists(temp_file):\n",
    "                    os.remove(temp_file)\n",
    "    else:\n",
    "        structure = parser.get_structure('protein', pdb_file)\n",
    "    \n",
    "    results = {}\n",
    "    \n",
    "    for model in structure:\n",
    "        for chain in model:\n",
    "            if chain_id is None or chain.id == chain_id:\n",
    "                sequence = \"\"\n",
    "                ca_coords = []\n",
    "                \n",
    "                for residue in chain:\n",
    "                    if residue.id[0] == ' ':\n",
    "                        try:\n",
    "                            aa = seq1(residue.resname)\n",
    "                            sequence += aa\n",
    "                            \n",
    "                            if 'CA' in residue:\n",
    "                                ca_atom = residue['CA']\n",
    "                                coord = ca_atom.get_coord()\n",
    "                                ca_coords.append((float(coord[0]), float(coord[1]), float(coord[2])))\n",
    "                            else:\n",
    "                                print(f\"Warning: No CA atom found in residue {residue.resname}{residue.id[1]} of chain {chain.id}\")\n",
    "                                ca_coords.append(None)\n",
    "                                \n",
    "                        except KeyError:\n",
    "                            print(f'Non natural residue in {pdb_file}')\n",
    "                \n",
    "                results[chain.id] = {\n",
    "                    'sequence': sequence,\n",
    "                    'ca_coords': ca_coords\n",
    "                }\n",
    "    \n",
    "    return results\n",
    "\n",
    "def extract_single_chain(pdb_file, chain_id='A'):\n",
    "    results = extract_sequence_and_ca_coords(pdb_file, chain_id)\n",
    "    \n",
    "    if chain_id in results:\n",
    "        return results[chain_id]['sequence'], results[chain_id]['ca_coords']\n",
    "    else:\n",
    "        print(f\"Chain {chain_id} not found in PDB file\")\n",
    "        return \"\", []"
   ]
  },
  {
   "cell_type": "code",
   "execution_count": 6,
   "id": "ff4e6a20-9a9f-4018-88de-f4bb8b4594bf",
   "metadata": {},
   "outputs": [
    {
     "data": {
      "text/plain": [
       "59966"
      ]
     },
     "execution_count": 6,
     "metadata": {},
     "output_type": "execute_result"
    }
   ],
   "source": [
    "pid_list = set()\n",
    "for tag in tags:\n",
    "    for tp in types:\n",
    "        tp_pid_list = read_pkl(f'./processed_file/{tag}_{tp}_used_pid_list.pkl')\n",
    "        pid_list = pid_list|set(tp_pid_list)\n",
    "pid_list = list(pid_list)\n",
    "len(pid_list)"
   ]
  },
  {
   "cell_type": "code",
   "execution_count": 9,
   "id": "3e70504d-8dc8-4cde-9136-4f28fd2955c3",
   "metadata": {},
   "outputs": [],
   "source": [
    "train_id_map = read_pkl('./data_dpfunc/train_id_map.pkl')\n",
    "valid_id_map = read_pkl('./data_dpfunc/valid_id_map.pkl')\n",
    "test_id_map = read_pkl('./data_dpfunc/test_id_map.pkl')"
   ]
  },
  {
   "cell_type": "code",
   "execution_count": 8,
   "id": "7b7f44d0-3737-48f3-99dc-9d065a970056",
   "metadata": {},
   "outputs": [],
   "source": [
    "assert len(train_id_map)+len(valid_id_map)+len(test_id_map) == len(set(train_id_map.keys())|set(valid_id_map.keys())|set(test_id_map.keys()))"
   ]
  },
  {
   "cell_type": "code",
   "execution_count": 10,
   "id": "b9a872e8-4776-44fc-87da-03abfbe65e19",
   "metadata": {},
   "outputs": [],
   "source": [
    "all_id_map = {}\n",
    "for k,v in train_id_map.items():\n",
    "    all_id_map[k] = v\n",
    "for k,v in valid_id_map.items():\n",
    "    all_id_map[k] = v\n",
    "for k,v in test_id_map.items():\n",
    "    all_id_map[k] = v"
   ]
  },
  {
   "cell_type": "code",
   "execution_count": 11,
   "id": "ac7db341-2784-4d64-9fa5-fdae3cc92bf0",
   "metadata": {},
   "outputs": [
    {
     "data": {
      "text/plain": [
       "60254"
      ]
     },
     "execution_count": 11,
     "metadata": {},
     "output_type": "execute_result"
    }
   ],
   "source": [
    "len(all_id_map)"
   ]
  },
  {
   "cell_type": "code",
   "execution_count": 17,
   "id": "d40cf51a-d7a1-4d79-9621-8c7e963bf83c",
   "metadata": {},
   "outputs": [
    {
     "data": {
      "text/html": [
       "<div>\n",
       "<style scoped>\n",
       "    .dataframe tbody tr th:only-of-type {\n",
       "        vertical-align: middle;\n",
       "    }\n",
       "\n",
       "    .dataframe tbody tr th {\n",
       "        vertical-align: top;\n",
       "    }\n",
       "\n",
       "    .dataframe thead th {\n",
       "        text-align: right;\n",
       "    }\n",
       "</style>\n",
       "<table border=\"1\" class=\"dataframe\">\n",
       "  <thead>\n",
       "    <tr style=\"text-align: right;\">\n",
       "      <th></th>\n",
       "      <th>From</th>\n",
       "      <th>Entry</th>\n",
       "      <th>Reviewed</th>\n",
       "      <th>Entry Name</th>\n",
       "      <th>Protein names</th>\n",
       "    </tr>\n",
       "  </thead>\n",
       "  <tbody>\n",
       "    <tr>\n",
       "      <th>0</th>\n",
       "      <td>OTU4_ARATH</td>\n",
       "      <td>Q8LBZ4</td>\n",
       "      <td>reviewed</td>\n",
       "      <td>OTU4_ARATH</td>\n",
       "      <td>OVARIAN TUMOR DOMAIN-containing deubiquitinati...</td>\n",
       "    </tr>\n",
       "    <tr>\n",
       "      <th>1</th>\n",
       "      <td>CIB2_DROME</td>\n",
       "      <td>Q9W2Q5</td>\n",
       "      <td>reviewed</td>\n",
       "      <td>CIB2_DROME</td>\n",
       "      <td>Calcium and integrin-binding family member 2</td>\n",
       "    </tr>\n",
       "    <tr>\n",
       "      <th>2</th>\n",
       "      <td>DEKP3_ARATH</td>\n",
       "      <td>Q9SUA1</td>\n",
       "      <td>reviewed</td>\n",
       "      <td>DEKP3_ARATH</td>\n",
       "      <td>DEK domain-containing chromatin-associated pro...</td>\n",
       "    </tr>\n",
       "    <tr>\n",
       "      <th>3</th>\n",
       "      <td>RTEL1_MOUSE</td>\n",
       "      <td>Q0VGM9</td>\n",
       "      <td>reviewed</td>\n",
       "      <td>RTEL1_MOUSE</td>\n",
       "      <td>Regulator of telomere elongation helicase 1 (E...</td>\n",
       "    </tr>\n",
       "    <tr>\n",
       "      <th>4</th>\n",
       "      <td>ARM10_HUMAN</td>\n",
       "      <td>Q8N2F6</td>\n",
       "      <td>reviewed</td>\n",
       "      <td>ARM10_HUMAN</td>\n",
       "      <td>Armadillo repeat-containing protein 10 (Splici...</td>\n",
       "    </tr>\n",
       "  </tbody>\n",
       "</table>\n",
       "</div>"
      ],
      "text/plain": [
       "          From   Entry  Reviewed   Entry Name  \\\n",
       "0   OTU4_ARATH  Q8LBZ4  reviewed   OTU4_ARATH   \n",
       "1   CIB2_DROME  Q9W2Q5  reviewed   CIB2_DROME   \n",
       "2  DEKP3_ARATH  Q9SUA1  reviewed  DEKP3_ARATH   \n",
       "3  RTEL1_MOUSE  Q0VGM9  reviewed  RTEL1_MOUSE   \n",
       "4  ARM10_HUMAN  Q8N2F6  reviewed  ARM10_HUMAN   \n",
       "\n",
       "                                       Protein names  \n",
       "0  OVARIAN TUMOR DOMAIN-containing deubiquitinati...  \n",
       "1       Calcium and integrin-binding family member 2  \n",
       "2  DEK domain-containing chromatin-associated pro...  \n",
       "3  Regulator of telomere elongation helicase 1 (E...  \n",
       "4  Armadillo repeat-containing protein 10 (Splici...  "
      ]
     },
     "execution_count": 17,
     "metadata": {},
     "output_type": "execute_result"
    }
   ],
   "source": [
    "tp_map = pd.read_table('./idmapping_2025_06_13.tsv')\n",
    "tp_map.head()"
   ]
  },
  {
   "cell_type": "code",
   "execution_count": 18,
   "id": "d0b0396d-abf3-4824-9cfc-d62b4a205464",
   "metadata": {},
   "outputs": [],
   "source": [
    "for idx, row in tp_map.iterrows():\n",
    "    all_id_map[row['Entry Name']] = row['Entry']"
   ]
  },
  {
   "cell_type": "code",
   "execution_count": null,
   "id": "ba15e814-4713-42c0-ac03-a80ebef2ff95",
   "metadata": {},
   "outputs": [
    {
     "data": {
      "application/vnd.jupyter.widget-view+json": {
       "model_id": "c74cdfe788974853925ecf5c5e91f527",
       "version_major": 2,
       "version_minor": 0
      },
      "text/plain": [
       "  0%|          | 0/59966 [00:00<?, ?it/s]"
      ]
     },
     "metadata": {},
     "output_type": "display_data"
    }
   ],
   "source": [
    "pdb_points_info = {}\n",
    "pdb_seq_info = {}\n",
    "unseen_proteins = set()\n",
    "\n",
    "for protein in tqdm(pid_list):\n",
    "    uni_id = all_id_map[protein]\n",
    "    pdb_file = f\"./AF2DB/AF-{uni_id}-F1-model_v4.pdb.gz\"\n",
    "    if not os.path.exists(pdb_file):\n",
    "        unseen_proteins.add(protein)\n",
    "        continue\n",
    "    \n",
    "    sequence, coords_list = extract_single_chain(pdb_file, 'A')\n",
    "    \n",
    "    if sequence and coords_list:\n",
    "        valid_coords = [coord for coord in coords_list if coord is not None]\n",
    "        valid_sequence = ''.join([sequence[i] for i, coord in enumerate(coords_list) if coord is not None])\n",
    "        \n",
    "        if len(valid_coords)==0 or len(valid_sequence)==0:\n",
    "            print(f\"Empty {protein}, {uni_id}\")\n",
    "        \n",
    "        pdb_points_info[protein] = valid_coords\n",
    "        pdb_seq_info[protein] = valid_sequence"
   ]
  },
  {
   "cell_type": "code",
   "execution_count": null,
   "id": "8bc37062-3d85-4d52-9d82-a994e270e8ff",
   "metadata": {},
   "outputs": [],
   "source": [
    "save_pkl('./processed_file/pdb_points.pkl', pdb_points_info)\n",
    "save_pkl('./processed_file/pdb_seqs.pkl', pdb_seq_info)\n",
    "save_pkl('./processed_file/unseen_proteins.pkl', unseen_proteins)"
   ]
  },
  {
   "cell_type": "markdown",
   "id": "43df0344-2e39-45a6-8f2b-58f28d9eaabf",
   "metadata": {
    "tags": []
   },
   "source": [
    "## 4.generate ESM - PDB"
   ]
  },
  {
   "cell_type": "code",
   "execution_count": null,
   "id": "64c3e4e8",
   "metadata": {},
   "outputs": [],
   "source": [
    "'''\n",
    "!!!!!!!!!!!!!!!!!!!!!!!!!!!!!!!!!!!!!!!!!!!!!!!!!!!!!!!!!!!!!!!!!\n",
    "Please first run \"process_esm.py\" file to generate the esm data.\n",
    "!!!!!!!!!!!!!!!!!!!!!!!!!!!!!!!!!!!!!!!!!!!!!!!!!!!!!!!!!!!!!!!!!\n",
    "'''"
   ]
  },
  {
   "cell_type": "code",
   "execution_count": 4,
   "id": "3b8297f3-af4e-4ad1-a934-65486d0807f1",
   "metadata": {},
   "outputs": [],
   "source": [
    "all_protein_list = []\n",
    "for tag in tags:\n",
    "    for tp in types:\n",
    "        pid_list = read_pkl(f\"./processed_file/{tag}_{tp}_used_pid_list.pkl\")\n",
    "        all_protein_list+=pid_list\n",
    "all_protein_list = list(set(all_protein_list))"
   ]
  },
  {
   "cell_type": "code",
   "execution_count": 5,
   "id": "3f44a666-faf2-43c9-852d-e81e39cd0619",
   "metadata": {},
   "outputs": [],
   "source": [
    "pdb_points_info = read_pkl('./processed_file/pdb_points.pkl')\n",
    "pdb_seqs = read_pkl('./processed_file/pdb_seqs.pkl')"
   ]
  },
  {
   "cell_type": "code",
   "execution_count": 6,
   "id": "d9804b88-6149-42b2-b3d8-c8d45c95120e",
   "metadata": {},
   "outputs": [],
   "source": [
    "assert len(set(pdb_points_info.keys())&set(all_protein_list))==len(all_protein_list)\n",
    "assert len(set(pdb_seqs.keys())&set(all_protein_list))==len(all_protein_list)"
   ]
  },
  {
   "cell_type": "code",
   "execution_count": 7,
   "id": "38c84dc6-a4f3-46b3-bae5-676dff6c4779",
   "metadata": {},
   "outputs": [],
   "source": [
    "import dgl"
   ]
  },
  {
   "cell_type": "code",
   "execution_count": 8,
   "id": "3801b562-7774-4f77-ac5f-a1e025a094c7",
   "metadata": {},
   "outputs": [],
   "source": [
    "import math\n",
    "import torch"
   ]
  },
  {
   "cell_type": "code",
   "execution_count": 9,
   "id": "077f358a-b54f-4170-9325-ca4f47031ad5",
   "metadata": {},
   "outputs": [],
   "source": [
    "def get_dis(point1, point2):\n",
    "    dis_x = point1[0] - point2[0]\n",
    "    dis_y = point1[1] - point2[1]\n",
    "    dis_z = point1[2] - point2[2]\n",
    "    return math.sqrt(dis_x*dis_x + dis_y*dis_y + dis_z*dis_z)\n",
    "\n",
    "def process_input_pdb_file(tag, part, pid_list, pdb_points_info, pdb_seqs, thresholds=12):\n",
    "    protein_map = read_pkl('./processed_file/protein_map.pkl')\n",
    "    pdb_graphs = []\n",
    "    p_cnt = 0\n",
    "    file_idx = 0\n",
    "    for pid in tqdm(pid_list):\n",
    "        p_cnt += 1\n",
    "        points = pdb_points_info[pid]\n",
    "        \n",
    "        u_list = []\n",
    "        v_list = []\n",
    "        dis_list = []\n",
    "        for uid, amino_1 in enumerate(points):\n",
    "            for vid, amino_2 in enumerate(points):\n",
    "                if uid==vid:\n",
    "                    continue\n",
    "                dist = get_dis(amino_1, amino_2)\n",
    "                if dist<=thresholds:\n",
    "                    u_list.append(uid)\n",
    "                    v_list.append(vid)\n",
    "                    dis_list.append(dist)\n",
    "        u_list, v_list = torch.tensor(u_list), torch.tensor(v_list)\n",
    "        dis_list = torch.tensor(dis_list)\n",
    "\n",
    "        graph = dgl.graph((u_list, v_list), num_nodes=len(points))\n",
    "        graph.edata['dis'] = dis_list\n",
    "\n",
    "        # graph node feature - esm\n",
    "        esm_file_idx = protein_map[pid]\n",
    "        esm_features = read_pkl(f\"./processed_file/esm_emds/esm_part_{esm_file_idx}.pkl\")\n",
    "        node_features = esm_features[pid]\n",
    "        assert node_features.shape[0]==graph.num_nodes()\n",
    "        graph.ndata['x'] = torch.from_numpy(node_features)\n",
    "        pdb_graphs.append(graph)\n",
    "\n",
    "        if p_cnt%5000==0:\n",
    "            save_pkl('./processed_file/graph_features/{}_{}_whole_pdb_part{}.pkl'.format(tag, part, file_idx), pdb_graphs)\n",
    "            p_cnt = 0\n",
    "            file_idx += 1\n",
    "            pdb_graphs = []\n",
    "    if len(pdb_graphs)>0:\n",
    "        save_pkl('./processed_file/graph_features/{}_{}_whole_pdb_part{}.pkl'.format(tag, part, file_idx), pdb_graphs)\n",
    "    return file_idx"
   ]
  },
  {
   "cell_type": "code",
   "execution_count": 10,
   "id": "23412ab8-1742-401a-a1b5-7227489c5e67",
   "metadata": {},
   "outputs": [
    {
     "data": {
      "application/vnd.jupyter.widget-view+json": {
       "model_id": "e3aded8aba454d1799f57e446e172d51",
       "version_major": 2,
       "version_minor": 0
      },
      "text/plain": [
       "  0%|          | 0/41119 [00:00<?, ?it/s]"
      ]
     },
     "metadata": {},
     "output_type": "display_data"
    },
    {
     "name": "stdout",
     "output_type": "stream",
     "text": [
      "cc-train-train_file_count-8\n"
     ]
    },
    {
     "data": {
      "application/vnd.jupyter.widget-view+json": {
       "model_id": "09d963a7864f4ba1bf7e5f0392081113",
       "version_major": 2,
       "version_minor": 0
      },
      "text/plain": [
       "  0%|          | 0/618 [00:00<?, ?it/s]"
      ]
     },
     "metadata": {},
     "output_type": "display_data"
    },
    {
     "data": {
      "application/vnd.jupyter.widget-view+json": {
       "model_id": "97c1d68e30fd42cc87b8a16d5c6f7cc7",
       "version_major": 2,
       "version_minor": 0
      },
      "text/plain": [
       "  0%|          | 0/990 [00:00<?, ?it/s]"
      ]
     },
     "metadata": {},
     "output_type": "display_data"
    },
    {
     "data": {
      "application/vnd.jupyter.widget-view+json": {
       "model_id": "7967587c9faf4a018a9e35bca1bf3f32",
       "version_major": 2,
       "version_minor": 0
      },
      "text/plain": [
       "  0%|          | 0/46642 [00:00<?, ?it/s]"
      ]
     },
     "metadata": {},
     "output_type": "display_data"
    },
    {
     "name": "stdout",
     "output_type": "stream",
     "text": [
      "bp-train-train_file_count-9\n"
     ]
    },
    {
     "data": {
      "application/vnd.jupyter.widget-view+json": {
       "model_id": "39b0d3079244474b8522bcdfbea2a2b7",
       "version_major": 2,
       "version_minor": 0
      },
      "text/plain": [
       "  0%|          | 0/707 [00:00<?, ?it/s]"
      ]
     },
     "metadata": {},
     "output_type": "display_data"
    },
    {
     "data": {
      "application/vnd.jupyter.widget-view+json": {
       "model_id": "bc4794656e6f42c687f18bdfc212f4b0",
       "version_major": 2,
       "version_minor": 0
      },
      "text/plain": [
       "  0%|          | 0/1280 [00:00<?, ?it/s]"
      ]
     },
     "metadata": {},
     "output_type": "display_data"
    }
   ],
   "source": [
    "for tag in tags:\n",
    "    if tag=='mf':\n",
    "        continue\n",
    "    for tp in types:\n",
    "        pid_list = read_pkl(f\"./processed_file/{tag}_{tp}_used_pid_list.pkl\")\n",
    "        max_cnt = process_input_pdb_file(tag, tp, pid_list, pdb_points_info, pdb_seqs)\n",
    "        if tp=='train':\n",
    "            print(f\"{tag}-{tp}-train_file_count-{max_cnt}\")"
   ]
  },
  {
   "cell_type": "markdown",
   "id": "cb35d5d9-5c96-4f75-bf75-fde93d1404ef",
   "metadata": {
    "jp-MarkdownHeadingCollapsed": true,
    "tags": []
   },
   "source": [
    "## 5. generate Interpro"
   ]
  },
  {
   "cell_type": "code",
   "execution_count": 4,
   "id": "09de0674-2838-4153-b1ea-58da63a1aaaa",
   "metadata": {},
   "outputs": [],
   "source": [
    "interpro_list = read_pkl('./data_dpfunc/interpro_list_26203.pkl')"
   ]
  },
  {
   "cell_type": "code",
   "execution_count": 6,
   "id": "099905a6-dc41-4cde-bc09-8771755231e6",
   "metadata": {},
   "outputs": [
    {
     "data": {
      "text/plain": [
       "26203"
      ]
     },
     "execution_count": 6,
     "metadata": {},
     "output_type": "execute_result"
    }
   ],
   "source": [
    "len(interpro_list)"
   ]
  },
  {
   "cell_type": "code",
   "execution_count": 7,
   "id": "01646020-6663-4ba9-8734-263d7e791067",
   "metadata": {},
   "outputs": [],
   "source": [
    "inter_idx = {}\n",
    "for idx, ipr in enumerate(interpro_list):\n",
    "    inter_idx[ipr] = idx\n",
    "save_pkl('./processed_file/inter_idx.pkl', inter_idx)"
   ]
  },
  {
   "cell_type": "code",
   "execution_count": 8,
   "id": "3023b8e4-3593-41f9-b8a4-d31833b3408b",
   "metadata": {},
   "outputs": [
    {
     "data": {
      "text/plain": [
       "59350"
      ]
     },
     "execution_count": 8,
     "metadata": {},
     "output_type": "execute_result"
    }
   ],
   "source": [
    "all_protein_list = []\n",
    "for tag in tags:\n",
    "    for tp in types:\n",
    "        pid_list = read_pkl(f\"./processed_file/{tag}_{tp}_used_pid_list.pkl\")\n",
    "        all_protein_list+=pid_list\n",
    "all_protein_list = list(set(all_protein_list))\n",
    "len(all_protein_list)"
   ]
  },
  {
   "cell_type": "code",
   "execution_count": 9,
   "id": "62c7ac21-02c0-404d-a286-c3731b555459",
   "metadata": {},
   "outputs": [],
   "source": [
    "all_protein_interpro = read_pkl('./data_dpfunc/all_protein_interpros.pkl')"
   ]
  },
  {
   "cell_type": "code",
   "execution_count": 12,
   "id": "9ae55564-c3a9-40d6-a155-8af557af654c",
   "metadata": {},
   "outputs": [],
   "source": [
    "for pr in all_protein_list:\n",
    "    inters = all_protein_interpro[pr]\n",
    "    inter_matrix = np.zeros(len(interpro_list))\n",
    "    for it in inters:\n",
    "        inter_matrix[inter_idx[it]] += 1\n",
    "    save_pkl(f\"./processed_file/interpro/{pr}.pkl\", inter_matrix)"
   ]
  },
  {
   "cell_type": "markdown",
   "id": "170f70c6-1a23-471b-8c35-f56251921472",
   "metadata": {},
   "source": [
    "## 6. Check configures"
   ]
  },
  {
   "cell_type": "code",
   "execution_count": null,
   "id": "633f855b-3054-43ab-a6cb-f937a3f4b583",
   "metadata": {},
   "outputs": [],
   "source": [
    "'''\n",
    "name: mf\n",
    "mlb: ./mlb/mf_go.mlb\n",
    "results: ./results\n",
    "\n",
    "base:\n",
    "  interpro_whole: ./processed_file/interpro/{}.pkl\n",
    "\n",
    "train:\n",
    "  name: train\n",
    "  pid_list_file: ./processed_file/mf_train_used_pid_list.pkl\n",
    "  pid_go_file: ./processed_file/mf_train_go.txt\n",
    "  pid_pdb_file: ./processed_file/graph_features/mf_train_whole_pdb_part{}.pkl\n",
    "  train_file_count: 7\n",
    "  interpro_file: ./processed_file/mf_train_interpro.pkl\n",
    "\n",
    "valid:\n",
    "  name: valid\n",
    "  pid_list_file: ./processed_file/mf_test1_used_pid_list.pkl\n",
    "  pid_go_file: ./processed_file/mf_test1_go.txt\n",
    "  pid_pdb_file: ./processed_file/graph_features/mf_test1_whole_pdb_part0.pkl\n",
    "  interpro_file: ./processed_file/mf_test1_interpro.pkl\n",
    "  \n",
    "test:\n",
    "  name: test\n",
    "  pid_list_file: ./processed_file/mf_test2_used_pid_list.pkl\n",
    "  pid_go_file: ./processed_file/mf_test2_go.txt\n",
    "  pid_pdb_file: ./processed_file/graph_features/mf_test2_whole_pdb_part0.pkl\n",
    "  interpro_file: ./processed_file/mf_test2_interpro.pkl\n",
    "'''"
   ]
  },
  {
   "cell_type": "code",
   "execution_count": null,
   "id": "723c13dd",
   "metadata": {},
   "outputs": [],
   "source": [
    "'''\n",
    "Run DPFunc_main.py / DPFunc_pred.py if you need:\n",
    "python DPFunc_main.py -d mf -n 0 -e 15 -p DPFunc\n",
    "python DPFunc_pred.py -d mf -n 0 -p DPFunc\n",
    "'''"
   ]
  }
 ],
 "metadata": {
  "kernelspec": {
   "display_name": "py38dgl",
   "language": "python",
   "name": "py38dgl"
  },
  "language_info": {
   "codemirror_mode": {
    "name": "ipython",
    "version": 3
   },
   "file_extension": ".py",
   "mimetype": "text/x-python",
   "name": "python",
   "nbconvert_exporter": "python",
   "pygments_lexer": "ipython3",
   "version": "3.8.16"
  }
 },
 "nbformat": 4,
 "nbformat_minor": 5
}
